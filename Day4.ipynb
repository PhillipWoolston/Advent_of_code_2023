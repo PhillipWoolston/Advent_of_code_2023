{
 "cells": [
  {
   "cell_type": "markdown",
   "metadata": {},
   "source": [
    "## Day 4"
   ]
  },
  {
   "cell_type": "code",
   "execution_count": null,
   "metadata": {},
   "outputs": [],
   "source": [
    "file = open(\"Day4_example.txt\",\"r\")\n",
    "all_games =[]\n",
    "a = file.readlines()\n",
    "for i in a:\n",
    "    all_games.append(i.strip())"
   ]
  },
  {
   "cell_type": "code",
   "execution_count": null,
   "metadata": {},
   "outputs": [],
   "source": [
    "def values_to_list(values:str)-> list:\n",
    "    \"\"\"Take a string of numbers and return a list of the values\n",
    "\n",
    "    Args:\n",
    "        values (str): a string of values\n",
    "\n",
    "    Returns:\n",
    "        list: list of the values as strings\n",
    "    \"\"\"\n",
    "    value_list = []\n",
    "    with_spaces=values.strip().split(\" \")\n",
    "    ### remove blanks when spaces present for single values\n",
    "    no_spaces = []\n",
    "    for j in range(len(with_spaces)):\n",
    "        if with_spaces[j] != '':\n",
    "            no_spaces.append(with_spaces[j])\n",
    "    return no_spaces"
   ]
  },
  {
   "cell_type": "code",
   "execution_count": null,
   "metadata": {},
   "outputs": [],
   "source": []
  },
  {
   "cell_type": "code",
   "execution_count": null,
   "metadata": {},
   "outputs": [],
   "source": [
    "card_values=[]\n",
    "picked_values = []\n",
    "\n",
    "for i in all_games:\n",
    "    game = i.strip().split(\":\")[1]\n",
    "    ## game values \n",
    "    card_values.append(values_to_list(game.split(\"|\")[1]))\n",
    "    picked_values.append(values_to_list(game.split(\"|\")[0]))\n"
   ]
  },
  {
   "cell_type": "code",
   "execution_count": null,
   "metadata": {},
   "outputs": [],
   "source": [
    "def total_count(card_values,picked_values):\n",
    "    total = 0\n",
    "    for i in range(len(card_values)):\n",
    "        matched = [item for item in card_values[i] if item in picked_values[i]]\n",
    "        score = 2**(len(matched)-1)\n",
    "        if score >= 1:\n",
    "            total = total + score\n",
    "    return total"
   ]
  },
  {
   "cell_type": "code",
   "execution_count": null,
   "metadata": {},
   "outputs": [],
   "source": [
    "total_count(card_values,picked_values)"
   ]
  },
  {
   "cell_type": "markdown",
   "metadata": {},
   "source": [
    "Part 2\n"
   ]
  },
  {
   "cell_type": "markdown",
   "metadata": {},
   "source": [
    "Burnt to the ground and restarted\n",
    "Recursive logic took some time to understand but got there once it was clear on the challenge"
   ]
  },
  {
   "cell_type": "code",
   "execution_count": null,
   "metadata": {},
   "outputs": [],
   "source": [
    "def card_process(string):\n",
    "    \n",
    "    id = string.strip().split(\":\")[0][5:]\n",
    "    game = string.strip().split(\":\")[1]\n",
    "    ## game values \n",
    "    card_values = values_to_list(game.split(\"|\")[1])\n",
    "    picked_values = values_to_list(game.split(\"|\")[0])\n",
    "    return (id,card_values,picked_values)\n"
   ]
  },
  {
   "cell_type": "code",
   "execution_count": null,
   "metadata": {},
   "outputs": [],
   "source": [
    "def card_matched(card_values,picked_values):\n",
    "    # total = 0\n",
    "    for i in range(len(card_values)):\n",
    "        matched = [item for item in card_values if item in picked_values]\n",
    "        # score = 2**(len(matched)-1)\n",
    "        # if score >= 1:\n",
    "        #     total = total + score\n",
    "    return len(matched)"
   ]
  },
  {
   "cell_type": "code",
   "execution_count": null,
   "metadata": {},
   "outputs": [],
   "source": [
    "class Card:\n",
    "    def __init__(self,string):\n",
    "        self.id = card_process(string)[0]\n",
    "        self.values = card_process(string)[1]\n",
    "        self.picked = card_process(string)[2]\n",
    "        self.matched = card_matched(self.values,self.picked)\n",
    "\n",
    "    def __str__(self):\n",
    "        return f\"card id: {self.id}, Matched: {self.matched}\"\n",
    "\n",
    "    "
   ]
  },
  {
   "cell_type": "code",
   "execution_count": null,
   "metadata": {},
   "outputs": [],
   "source": [
    "file = open(\"Day4_example.txt\",\"r\")\n",
    "all_games =[]\n",
    "a = file.readlines()\n",
    "for i in a:\n",
    "    all_games.append(i.strip())"
   ]
  },
  {
   "cell_type": "code",
   "execution_count": null,
   "metadata": {},
   "outputs": [],
   "source": [
    "games = []\n",
    "for i in all_games:\n",
    "    games.append(Card(i.strip()))"
   ]
  },
  {
   "cell_type": "code",
   "execution_count": null,
   "metadata": {},
   "outputs": [],
   "source": [
    "for i in games:\n",
    "    print(i)"
   ]
  },
  {
   "cell_type": "code",
   "execution_count": null,
   "metadata": {},
   "outputs": [],
   "source": [
    "### main cell for challenge\n",
    "## create a list of \"won cards\" - start with all cards\n",
    "won_cards = [i for i in range(len(games))]\n",
    "# start the location at 0 - first position\n",
    "location = 0\n",
    "# while loop as undefined loop\n",
    "# while the location is less than the growing list then keep checking \"won_cards\"\n",
    "while location < len(won_cards)-1 :\n",
    "    # as the while loop moves though the won cards check each for the matches\n",
    "    for i in range(games[won_cards[location]].matched):\n",
    "        ## add the index of the new \"won card\" to the list (unless the index is greater than the number of original cards)\n",
    "        if i+won_cards[location]+1 < len(games):\n",
    "            won_cards.append(i+won_cards[location]+1)\n",
    "    # once all \"won cards have been added for the location move to the next one\"\n",
    "    location = location +1  \n",
    "\n",
    "## once all cards have been processed print the length of the list\n",
    "print(len(won_cards))\n",
    "\n"
   ]
  }
 ],
 "metadata": {
  "kernelspec": {
   "display_name": ".venv",
   "language": "python",
   "name": "python3"
  },
  "language_info": {
   "codemirror_mode": {
    "name": "ipython",
    "version": 3
   },
   "file_extension": ".py",
   "mimetype": "text/x-python",
   "name": "python",
   "nbconvert_exporter": "python",
   "pygments_lexer": "ipython3",
   "version": "3.11.4"
  }
 },
 "nbformat": 4,
 "nbformat_minor": 2
}
