{
 "cells": [
  {
   "cell_type": "code",
   "execution_count": null,
   "metadata": {},
   "outputs": [],
   "source": [
    "## Day 8"
   ]
  },
  {
   "cell_type": "code",
   "execution_count": null,
   "metadata": {},
   "outputs": [],
   "source": [
    "file = open(\"Day8_challenge.txt\",\"r\")\n",
    "whole_file =[]\n",
    "a = file.readlines()\n",
    "loop = a[0].strip()\n",
    "for i in range(2,len(a)):\n",
    "    whole_file.append(a[i].strip())\n"
   ]
  },
  {
   "cell_type": "code",
   "execution_count": null,
   "metadata": {},
   "outputs": [],
   "source": [
    "\n",
    "print(len(loop))"
   ]
  },
  {
   "cell_type": "code",
   "execution_count": null,
   "metadata": {},
   "outputs": [],
   "source": [
    "for i in range(5):\n",
    "    print(whole_file[i])"
   ]
  },
  {
   "cell_type": "code",
   "execution_count": null,
   "metadata": {},
   "outputs": [],
   "source": [
    "node_dict = {}\n",
    "for string in whole_file:\n",
    "    node_dict[string.split(\"=\")[0].strip()] = {\"L\":string.split(\"=\")[1].split(\",\")[0].replace(\"(\",\"\").strip(),\n",
    "                                               \"R\":string.split(\"=\")[1].split(\",\")[1].replace(\")\",\"\").strip()}"
   ]
  },
  {
   "cell_type": "code",
   "execution_count": null,
   "metadata": {},
   "outputs": [],
   "source": [
    "print(len(node_dict))"
   ]
  },
  {
   "cell_type": "code",
   "execution_count": null,
   "metadata": {},
   "outputs": [],
   "source": [
    "print(node_dict[\"BRR\"][\"L\"])\n",
    "print(node_dict[node_dict[\"BRR\"][\"L\"]])"
   ]
  },
  {
   "cell_type": "code",
   "execution_count": null,
   "metadata": {},
   "outputs": [],
   "source": [
    "location = \"AAA\"\n",
    "\n",
    "step = 0\n",
    "step_counter = 0\n",
    "while location != \"ZZZ\":\n",
    "    if step_counter >= len(loop):\n",
    "        step_counter = 0\n",
    "    movement = loop[step_counter]\n",
    "    step = step + 1\n",
    "    step_counter = step_counter + 1\n",
    "    location = node_dict[location][movement]\n",
    "print(step,location)"
   ]
  },
  {
   "cell_type": "markdown",
   "metadata": {},
   "source": [
    "Part 2"
   ]
  },
  {
   "cell_type": "code",
   "execution_count": null,
   "metadata": {},
   "outputs": [],
   "source": [
    "## step 1 - get initial list of starting points "
   ]
  },
  {
   "cell_type": "code",
   "execution_count": null,
   "metadata": {},
   "outputs": [],
   "source": [
    "file = open(\"Day8_challenge.txt\",\"r\")\n",
    "whole_file =[]\n",
    "a = file.readlines()\n",
    "loop = a[0].strip()\n",
    "for i in range(2,len(a)):\n",
    "    whole_file.append(a[i].strip())\n"
   ]
  },
  {
   "cell_type": "code",
   "execution_count": null,
   "metadata": {},
   "outputs": [],
   "source": [
    "node_dict = {}\n",
    "for string in whole_file:\n",
    "    node_dict[string.split(\"=\")[0].strip()] = {\"L\":string.split(\"=\")[1].split(\",\")[0].replace(\"(\",\"\").strip(),\n",
    "                                               \"R\":string.split(\"=\")[1].split(\",\")[1].replace(\")\",\"\").strip()}"
   ]
  },
  {
   "cell_type": "code",
   "execution_count": null,
   "metadata": {},
   "outputs": [],
   "source": [
    "locations = []\n",
    "for i in node_dict:\n",
    "    if str(i)[2]==\"A\":\n",
    "        locations.append(i)"
   ]
  },
  {
   "cell_type": "code",
   "execution_count": null,
   "metadata": {},
   "outputs": [],
   "source": [
    "print(len(locations))"
   ]
  },
  {
   "cell_type": "markdown",
   "metadata": {},
   "source": [
    "This took over 10 Hrs - not suitable "
   ]
  },
  {
   "cell_type": "code",
   "execution_count": null,
   "metadata": {},
   "outputs": [],
   "source": [
    "step = 0\n",
    "step_counter = 0\n",
    "correct = 0\n",
    "while correct < len(locations):\n",
    "    correct = 0\n",
    "    step = step + 1\n",
    "    if step_counter >= len(loop):\n",
    "        step_counter = 0\n",
    "    movement = loop[step_counter]\n",
    "    if str(locations[0])[2] == \"Z\":\n",
    "        for location in range(len(locations)):\n",
    "            locations[location]= node_dict[locations[location]][movement]\n",
    "            if str(locations[location])[2] == \"Z\":\n",
    "                correct = correct + 1\n",
    "    step_counter = step_counter + 1\n",
    "    # print(locations,correct)\n",
    "    \n",
    "print(step)"
   ]
  },
  {
   "cell_type": "code",
   "execution_count": null,
   "metadata": {},
   "outputs": [],
   "source": [
    "print(locations)"
   ]
  },
  {
   "cell_type": "code",
   "execution_count": null,
   "metadata": {},
   "outputs": [],
   "source": [
    "for i in locations:\n",
    "    "
   ]
  },
  {
   "cell_type": "code",
   "execution_count": null,
   "metadata": {},
   "outputs": [],
   "source": [
    "nodes = []\n",
    "for i in whole_file:\n",
    "    nodes.append(Node(i))"
   ]
  },
  {
   "cell_type": "code",
   "execution_count": null,
   "metadata": {},
   "outputs": [],
   "source": [
    "for i in range(5):\n",
    "    print( nodes[i])"
   ]
  }
 ],
 "metadata": {
  "kernelspec": {
   "display_name": ".venv",
   "language": "python",
   "name": "python3"
  },
  "language_info": {
   "codemirror_mode": {
    "name": "ipython",
    "version": 3
   },
   "file_extension": ".py",
   "mimetype": "text/x-python",
   "name": "python",
   "nbconvert_exporter": "python",
   "pygments_lexer": "ipython3",
   "version": "3.11.4"
  }
 },
 "nbformat": 4,
 "nbformat_minor": 2
}
