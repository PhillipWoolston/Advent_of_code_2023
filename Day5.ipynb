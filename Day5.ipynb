{
 "cells": [
  {
   "cell_type": "markdown",
   "metadata": {},
   "source": [
    "Day 5\n",
    "\n",
    "This was not too complicated once understood the challenge but the difficulty came when processing a large amount of numbers - lists became too long \\\n",
    "Had to think of how to make the code more efficient  "
   ]
  },
  {
   "cell_type": "code",
   "execution_count": 40,
   "metadata": {},
   "outputs": [],
   "source": [
    "file = open(\"Day5_challenge.txt\",\"r\")\n",
    "whole_file =[]\n",
    "a = file.readlines()\n",
    "for i in a:\n",
    "    whole_file.append(i.strip())\n"
   ]
  },
  {
   "cell_type": "code",
   "execution_count": 41,
   "metadata": {},
   "outputs": [],
   "source": [
    "seeds = whole_file[0].split(\":\")[1].strip().split(\" \")"
   ]
  },
  {
   "cell_type": "code",
   "execution_count": 42,
   "metadata": {},
   "outputs": [
    {
     "name": "stdout",
     "output_type": "stream",
     "text": [
      "['3127166940', '109160474', '3265086325', '86449584', '1581539098', '205205726', '3646327835', '184743451', '2671979893', '17148151', '305618297', '40401857', '2462071712', '203075200', '358806266', '131147346', '1802185716', '538526744', '635790399', '705979250']\n"
     ]
    }
   ],
   "source": [
    "print(seeds)"
   ]
  },
  {
   "cell_type": "code",
   "execution_count": 43,
   "metadata": {},
   "outputs": [
    {
     "name": "stdout",
     "output_type": "stream",
     "text": [
      "seed-to-soil map:\n",
      "soil-to-fertilizer map:\n",
      "fertilizer-to-water map:\n",
      "water-to-light map:\n",
      "light-to-temperature map:\n",
      "temperature-to-humidity map:\n",
      "humidity-to-location map:\n"
     ]
    }
   ],
   "source": [
    "maps = [\"seed-to-soil map:\",\"soil-to-fertilizer map:\",\"fertilizer-to-water map:\",\"water-to-light map:\",\"light-to-temperature map:\",\"temperature-to-humidity map:\",\"humidity-to-location map:\"]\n",
    "maps_number = [[] for i in range(len(maps))]\n",
    "for i, line in enumerate(whole_file):\n",
    "    for j in range(len(maps)):\n",
    "        if maps[j] == line:\n",
    "            print(line)\n",
    "            k = 1\n",
    "            \n",
    "            while i+k < len(whole_file) and len(whole_file[i+k]) > 3:\n",
    "                # print(whole_file[i+k])\n",
    "                maps_number[j].append(whole_file[i+k])\n",
    "                k=k+1\n",
    "\n"
   ]
  },
  {
   "cell_type": "code",
   "execution_count": 38,
   "metadata": {},
   "outputs": [],
   "source": [
    "# for i in maps_number:\n",
    "#     print (i)"
   ]
  },
  {
   "cell_type": "markdown",
   "metadata": {},
   "source": [
    "The line below could be sped up if added ranges to list rather than generating them "
   ]
  },
  {
   "cell_type": "code",
   "execution_count": 39,
   "metadata": {},
   "outputs": [
    {
     "name": "stdout",
     "output_type": "stream",
     "text": [
      "0 931304316 1786548802 232453384\n"
     ]
    },
    {
     "ename": "KeyboardInterrupt",
     "evalue": "",
     "output_type": "error",
     "traceback": [
      "\u001b[1;31m---------------------------------------------------------------------------\u001b[0m",
      "\u001b[1;31mKeyboardInterrupt\u001b[0m                         Traceback (most recent call last)",
      "Cell \u001b[1;32mIn[39], line 10\u001b[0m\n\u001b[0;32m      8\u001b[0m \u001b[38;5;28;01mfor\u001b[39;00m x \u001b[38;5;129;01min\u001b[39;00m \u001b[38;5;28mrange\u001b[39m(number):\n\u001b[0;32m      9\u001b[0m     list_maps[i][\u001b[38;5;241m1\u001b[39m]\u001b[38;5;241m.\u001b[39mappend(x\u001b[38;5;241m+\u001b[39mstart_a)\n\u001b[1;32m---> 10\u001b[0m     list_maps[i][\u001b[38;5;241m0\u001b[39m]\u001b[38;5;241m.\u001b[39mappend(x\u001b[38;5;241m+\u001b[39mstart_b)\n",
      "\u001b[1;31mKeyboardInterrupt\u001b[0m: "
     ]
    }
   ],
   "source": [
    "list_maps = [[[],[]] for i in range(len(maps))]\n",
    "for i in range(len(maps_number)):\n",
    "    for j in maps_number[i]:\n",
    "        print(i,j)\n",
    "        start_a = int(j.split(\" \")[0])\n",
    "        start_b = int(j.split(\" \")[1])\n",
    "        number = int(j.split(\" \")[2])\n",
    "        for x in range(number):\n",
    "            list_maps[i][1].append(x+start_a)\n",
    "            list_maps[i][0].append(x+start_b)\n"
   ]
  },
  {
   "cell_type": "markdown",
   "metadata": {},
   "source": [
    "Could make a dictionary search instead for indexing to match - might speed up rather than a nested list."
   ]
  },
  {
   "cell_type": "code",
   "execution_count": null,
   "metadata": {},
   "outputs": [],
   "source": [
    "locations = []\n",
    "\n",
    "for seed in seeds:\n",
    "    value = int(seed)\n",
    "    for mapping in list_maps:\n",
    "        for mapped_value in range(len(mapping[0])):\n",
    "            # print(value,mapping[0][mapped_value],mapping[1][mapped_value])\n",
    "            if int(mapping[0][mapped_value]) is value:\n",
    "                value = int(mapping[1][mapped_value])\n",
    "                break\n",
    "    locations.append(value)"
   ]
  },
  {
   "cell_type": "code",
   "execution_count": null,
   "metadata": {},
   "outputs": [
    {
     "name": "stdout",
     "output_type": "stream",
     "text": [
      "79 82\n",
      "14 43\n",
      "55 86\n",
      "13 35\n"
     ]
    }
   ],
   "source": [
    "\n",
    "for i in range(len(seeds)):\n",
    "    print(seeds[i],locations[i])"
   ]
  },
  {
   "cell_type": "markdown",
   "metadata": {},
   "source": [
    "### The above workerd for the example but computationally was too expensive for the challange\n",
    "a second approach which considered each mapping and used if statements to see if it was valid was used as an alternative to be less memory intensive"
   ]
  },
  {
   "cell_type": "code",
   "execution_count": 44,
   "metadata": {},
   "outputs": [],
   "source": [
    "file = open(\"Day5_challenge.txt\",\"r\")\n",
    "whole_file =[]\n",
    "a = file.readlines()\n",
    "for i in a:\n",
    "    whole_file.append(i.strip())\n"
   ]
  },
  {
   "cell_type": "code",
   "execution_count": 45,
   "metadata": {},
   "outputs": [],
   "source": [
    "seeds = whole_file[0].split(\":\")[1].strip().split(\" \")\n",
    "seeds = [int(i) for i in seeds]"
   ]
  },
  {
   "cell_type": "code",
   "execution_count": 46,
   "metadata": {},
   "outputs": [
    {
     "name": "stdout",
     "output_type": "stream",
     "text": [
      "seed-to-soil map:\n",
      "soil-to-fertilizer map:\n",
      "fertilizer-to-water map:\n",
      "water-to-light map:\n",
      "light-to-temperature map:\n",
      "temperature-to-humidity map:\n",
      "humidity-to-location map:\n"
     ]
    }
   ],
   "source": [
    "maps = [\"seed-to-soil map:\",\"soil-to-fertilizer map:\",\"fertilizer-to-water map:\",\"water-to-light map:\",\"light-to-temperature map:\",\"temperature-to-humidity map:\",\"humidity-to-location map:\"]\n",
    "maps_number = [[] for i in range(len(maps))]\n",
    "for i, line in enumerate(whole_file):\n",
    "    for j in range(len(maps)):\n",
    "        if maps[j] == line:\n",
    "            print(line)\n",
    "            k = 1\n",
    "            \n",
    "            while i+k < len(whole_file) and len(whole_file[i+k]) > 3:\n",
    "                # print(whole_file[i+k])\n",
    "                maps_number[j].append(whole_file[i+k])\n",
    "                k=k+1\n",
    "\n"
   ]
  },
  {
   "cell_type": "code",
   "execution_count": 47,
   "metadata": {},
   "outputs": [
    {
     "name": "stdout",
     "output_type": "stream",
     "text": [
      "['931304316 1786548802 232453384', '3500539319 2322065235 6421609', '496396007 147739714 266329192', '3169724489 768672891 39526579', '3689153715 1361862036 346985', '1936948751 3328259881 542896984', '3209251068 3154345676 173914205', '1163757700 2814318523 24125066', '2484210664 1362209021 231487475', '3991904247 2133571422 188493813', '1187882766 4045525873 83717994', '861951350 3084992710 69352966', '2715698139 2838443589 43714032', '3830303258 4025104215 20421658', '768672891 1268583577 93278459', '4180398060 2019002186 114569236', '3689500700 1593696496 10659519', '1271600760 808199470 460384107', '166497091 526585653 102729094', '3700160219 3894961176 130143039', '2966889400 2882157621 202835089', '147739714 414068906 18757377', '3850724916 4133608796 141179331', '2759412171 2328486844 183672918', '2479845735 4129243867 4364929', '3480360150 4274788127 20179169', '402636637 432826283 93759370', '3383165273 2717123646 97194877', '3506960928 1604356015 182192787', '269226185 629314747 133410452', '2943085089 3871156865 23804311', '1731984867 2512159762 204963884']\n",
      "['3368312743 826425240 243745914', '1045038113 3682756471 174490549', '3931158487 1530223690 363808809', '1219528662 2460222182 131099318', '3020480207 1894032499 63879875', '121779694 248970341 36319877', '1993634034 2662348686 86667553', '3612058657 1323325837 196530127', '1531175223 2604354699 57993987', '158099571 121779694 127190647', '1867147432 3317666386 126486602', '2080301587 2768963716 548702670', '1402482267 1070171154 21180243', '2959841028 4051272297 60639179', '834756529 1966243663 128160296', '3911211010 2749016239 19947477', '962916825 3857247020 82121288', '2629004257 3444152988 238603483', '826425240 1957912374 8331289', '1350627980 3939368308 51854287', '1589169210 4214533702 80433594', '2867607740 2094403959 92233288', '1669602804 1125781209 197544628', '3084360082 1519855964 10367726', '1483712212 1091351397 34429812', '3094727808 2186637247 273584935', '1423662510 3991222595 60049702', '3808588784 4111911476 102622226', '1518142024 2591321500 13033199']\n",
      "['206818393 1973789958 18543481', '2641351404 1992333439 41420268', '58400970 2574944960 107826712', '3710426911 4065366707 42793360', '4217161704 4274048011 20919285', '1926695368 705931711 328031436', '1449580741 1210970895 50549447', '907984567 1421828853 15115545', '769748018 1108192216 102778679', '451427938 35457870 38201654', '2254726804 2033892789 137829519', '923239194 1513967644 270588891', '3753220271 4108160067 165887944', '499804857 310274559 109862756', '3061525238 3535532059 426476055', '1193828085 73659524 196024324', '872526697 0 35457870', '1766386857 1261520342 160308511', '4057593930 3283950856 159567774', '1389852409 646203379 59728332', '3919108215 3962008114 103358593', '1577153434 1784556535 189233423', '4022466808 3443518630 35127122', '489629592 1098016951 10175265', '923100112 2033753707 139082', '2392556323 2390203683 158894869', '1500130188 1436944398 77023246', '2577297600 1033963147 64053804', '609667613 2171722308 160080405', '3488001293 3061525238 222425618', '2551451192 2549098552 25846408', '4238080989 3478645752 56886307', '166227682 269683848 40590711', '0 2331802713 58400970', '225361874 420137315 226066064']\n",
      "['1833244152 0 764535859', '212138399 2132863085 224047237', '445686952 1600446740 163005122', '3322180377 2914685303 488586806', '2739726430 3712513349 582453947', '3946546331 3589340640 8839399', '1441711040 799272484 245821386', '1038755613 1763451862 6623730', '608692074 1587251997 13194743', '701103180 2356910322 39153476', '1687532426 1045093870 145711726', '2597780011 764535859 34736625', '740256656 1490869662 54307168', '0 1920724686 212138399', '2632516636 1545176830 9229765', '668257778 1554406595 32845402', '3955385730 2739726430 39179725', '4180633986 3598180039 114333310', '3810767183 2778906155 135779148', '1291061946 1770075592 150649094', '436185636 1481368346 9501316', '1045379343 2396063798 245682603', '794563824 1237176557 244191789', '621886817 1190805596 46370961', '3994565455 3403272109 186068531']\n",
      "['432141642 1268486741 19474646', '3617581823 3276436954 357008111', '3505110084 3786131308 49942802', '0 1287961387 432141642', '3096011130 1808659179 409098954', '1347993824 2675880000 161612192', '3019335150 3199760974 76675980', '3555052886 3137232037 62528937', '2778092757 1720103029 88556150', '451616288 2217758133 458121867', '1509606016 0 1268486741', '909738155 3836074110 138515824', '1048253979 2837492192 299739845', '2866648907 3633445065 152686243']\n",
      "['646729740 1519504972 559297346', '1894539176 2990410634 44298872', '232257988 972432123 414471752', '2277879451 278205785 108711195', '1775790220 132298732 118748956', '3371687162 2663455233 326955401', '1612056920 272509895 5695890', '1208383109 3703499740 147415518', '4070380190 4053129082 69974785', '4155541210 3305585510 139426086', '81956384 386916980 150301604', '3987543096 896459472 75972651', '2148980475 1386903875 128898976', '1617752810 3445011596 154599732', '4063515747 2078802318 6864443', '2392568787 3599611328 101532389', '2386590646 4123103867 5978141', '2494101176 2122546980 187027686', '2681128862 2085666761 36880219', '4140354975 2648268998 15186235', '1772352542 3051742077 3437678', '1355798627 3850915258 202213824', '3720104770 3055179755 250405755', '3032992830 2309574666 338694332', '1206027086 3701143717 2356023', '1938838048 537218584 44257139', '1558012451 81956384 50342348', '3970510525 3034709506 17032571', '1608354799 1515802851 3702121', '1983095187 4129082008 165885288', '3698642563 251047688 21462207', '2718009081 581475723 314983749']\n",
      "['971626884 4275486551 19480745', '1218249913 2090555906 502249162', '2914848039 2902831882 224865747', '3341591733 2819947352 82884530', '991107629 2592805068 227142284', '3424476263 606585628 95279547', '4279176998 2064757318 10971709', '3139713786 4068790015 201877947', '606585628 701865175 365041256', '3534582689 3291885426 744594309', '1916997152 1066906431 997850887', '1752809355 3127697629 164187797', '1720499075 4036479735 32310280', '4290148707 4270667962 4818589', '3519755810 2075729027 14826879']\n"
     ]
    }
   ],
   "source": [
    "for i in maps_number:\n",
    "    print (i)"
   ]
  },
  {
   "cell_type": "code",
   "execution_count": 48,
   "metadata": {},
   "outputs": [],
   "source": [
    "locations = []\n",
    "for seed in seeds:\n",
    "    value = seed\n",
    "    for i in maps_number:\n",
    "        for j in i:\n",
    "            start_a = int(j.split(\" \")[1])\n",
    "            start_b = int(j.split(\" \")[0])\n",
    "            number = int(j.split(\" \")[2])\n",
    "            offset = start_b-start_a\n",
    "            if value >= start_a and value <= start_a+number:\n",
    "                value = value + offset\n",
    "                break\n",
    "    locations.append(value)\n",
    "        \n",
    "\n",
    "        "
   ]
  },
  {
   "cell_type": "code",
   "execution_count": 49,
   "metadata": {},
   "outputs": [
    {
     "name": "stdout",
     "output_type": "stream",
     "text": [
      "[3127166940, 109160474, 3265086325, 86449584, 1581539098, 205205726, 3646327835, 184743451, 2671979893, 17148151, 305618297, 40401857, 2462071712, 203075200, 358806266, 131147346, 1802185716, 538526744, 635790399, 705979250]\n",
      "[522761994, 1669264475, 1994231379, 1646553585, 876486655, 2502514616, 280278922, 2482052341, 3990263023, 2737734226, 1813446793, 218513636, 3367560261, 2500384090, 2459750215, 3090063388, 4002673505, 3137354224, 3071107355, 1137359212]\n"
     ]
    }
   ],
   "source": [
    "print (seeds)\n",
    "print(locations)"
   ]
  },
  {
   "cell_type": "code",
   "execution_count": 50,
   "metadata": {},
   "outputs": [
    {
     "data": {
      "text/plain": [
       "218513636"
      ]
     },
     "execution_count": 50,
     "metadata": {},
     "output_type": "execute_result"
    }
   ],
   "source": [
    "min(locations)"
   ]
  },
  {
   "cell_type": "markdown",
   "metadata": {},
   "source": [
    "SOOOOO much quicker!! "
   ]
  },
  {
   "cell_type": "markdown",
   "metadata": {},
   "source": [
    "Part 2\n",
    "Try generating a list of seeds as the processing was quick"
   ]
  },
  {
   "cell_type": "code",
   "execution_count": 51,
   "metadata": {},
   "outputs": [],
   "source": [
    "seed_start = []\n",
    "seed_len=[]\n",
    "for i in range(len(seeds)):\n",
    "    if i%2 == 0:\n",
    "        seed_start.append(int(seeds[i]))\n",
    "    else:\n",
    "        seed_len.append(int(seeds[i]))"
   ]
  },
  {
   "cell_type": "code",
   "execution_count": 52,
   "metadata": {},
   "outputs": [],
   "source": [
    "def find_min_locations(seed):\n",
    "    value = seed\n",
    "    for i in maps_number:\n",
    "        for j in i:\n",
    "            start_a = int(j.split(\" \")[1])\n",
    "            start_b = int(j.split(\" \")[0])\n",
    "            number = int(j.split(\" \")[2])\n",
    "            offset = start_b-start_a\n",
    "            if value >= start_a and value <= start_a+number:\n",
    "                value = value + offset\n",
    "                break\n",
    "    return value\n",
    "        "
   ]
  },
  {
   "cell_type": "code",
   "execution_count": 53,
   "metadata": {},
   "outputs": [],
   "source": [
    "seed_group=[]\n",
    "min_location = 1000000000000000000\n",
    "for i in range(len(seed_len)):\n",
    "    for j in range(seed_len[i]):\n",
    "        location = find_min_locations(seed_start[i]+j)\n",
    "        if location<min_location:\n",
    "            min_location = location\n",
    "    \n",
    "print(min_location)"
   ]
  },
  {
   "cell_type": "markdown",
   "metadata": {},
   "source": [
    "Dont make a list, just process each and update value if less than minimum, needs less ram"
   ]
  },
  {
   "cell_type": "markdown",
   "metadata": {},
   "source": []
  }
 ],
 "metadata": {
  "kernelspec": {
   "display_name": ".venv",
   "language": "python",
   "name": "python3"
  },
  "language_info": {
   "codemirror_mode": {
    "name": "ipython",
    "version": 3
   },
   "file_extension": ".py",
   "mimetype": "text/x-python",
   "name": "python",
   "nbconvert_exporter": "python",
   "pygments_lexer": "ipython3",
   "version": "3.11.4"
  }
 },
 "nbformat": 4,
 "nbformat_minor": 2
}
