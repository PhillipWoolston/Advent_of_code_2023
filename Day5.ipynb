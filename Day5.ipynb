{
 "cells": [
  {
   "cell_type": "markdown",
   "metadata": {},
   "source": [
    "Day 5\n",
    "\n",
    "This was not too complicated once understood the challenge but the difficulty came when processing a large amount of numbers - lists became too long \\\n",
    "Had to think of how to make the code more efficient  "
   ]
  },
  {
   "cell_type": "code",
   "execution_count": null,
   "metadata": {},
   "outputs": [],
   "source": [
    "file = open(\"Day5_challenge.txt\",\"r\")\n",
    "whole_file =[]\n",
    "a = file.readlines()\n",
    "for i in a:\n",
    "    whole_file.append(i.strip())\n"
   ]
  },
  {
   "cell_type": "code",
   "execution_count": null,
   "metadata": {},
   "outputs": [],
   "source": [
    "seeds = whole_file[0].split(\":\")[1].strip().split(\" \")"
   ]
  },
  {
   "cell_type": "code",
   "execution_count": null,
   "metadata": {},
   "outputs": [],
   "source": [
    "print(seeds)"
   ]
  },
  {
   "cell_type": "code",
   "execution_count": null,
   "metadata": {},
   "outputs": [],
   "source": [
    "maps = [\"seed-to-soil map:\",\"soil-to-fertilizer map:\",\"fertilizer-to-water map:\",\"water-to-light map:\",\"light-to-temperature map:\",\"temperature-to-humidity map:\",\"humidity-to-location map:\"]\n",
    "maps_number = [[] for i in range(len(maps))]\n",
    "for i, line in enumerate(whole_file):\n",
    "    for j in range(len(maps)):\n",
    "        if maps[j] == line:\n",
    "            print(line)\n",
    "            k = 1\n",
    "            \n",
    "            while i+k < len(whole_file) and len(whole_file[i+k]) > 3:\n",
    "                # print(whole_file[i+k])\n",
    "                maps_number[j].append(whole_file[i+k])\n",
    "                k=k+1\n",
    "\n"
   ]
  },
  {
   "cell_type": "code",
   "execution_count": null,
   "metadata": {},
   "outputs": [],
   "source": [
    "# for i in maps_number:\n",
    "#     print (i)"
   ]
  },
  {
   "cell_type": "markdown",
   "metadata": {},
   "source": [
    "The line below could be sped up if added ranges to list rather than generating them "
   ]
  },
  {
   "cell_type": "code",
   "execution_count": null,
   "metadata": {},
   "outputs": [],
   "source": [
    "list_maps = [[[],[]] for i in range(len(maps))]\n",
    "for i in range(len(maps_number)):\n",
    "    for j in maps_number[i]:\n",
    "        print(i,j)\n",
    "        start_a = int(j.split(\" \")[0])\n",
    "        start_b = int(j.split(\" \")[1])\n",
    "        number = int(j.split(\" \")[2])\n",
    "        for x in range(number):\n",
    "            list_maps[i][1].append(x+start_a)\n",
    "            list_maps[i][0].append(x+start_b)\n"
   ]
  },
  {
   "cell_type": "markdown",
   "metadata": {},
   "source": [
    "Could make a dictionary search instead for indexing to match - might speed up rather than a nested list."
   ]
  },
  {
   "cell_type": "code",
   "execution_count": null,
   "metadata": {},
   "outputs": [],
   "source": [
    "locations = []\n",
    "\n",
    "for seed in seeds:\n",
    "    value = int(seed)\n",
    "    for mapping in list_maps:\n",
    "        for mapped_value in range(len(mapping[0])):\n",
    "            # print(value,mapping[0][mapped_value],mapping[1][mapped_value])\n",
    "            if int(mapping[0][mapped_value]) is value:\n",
    "                value = int(mapping[1][mapped_value])\n",
    "                break\n",
    "    locations.append(value)"
   ]
  },
  {
   "cell_type": "code",
   "execution_count": null,
   "metadata": {},
   "outputs": [],
   "source": [
    "\n",
    "for i in range(len(seeds)):\n",
    "    print(seeds[i],locations[i])"
   ]
  },
  {
   "cell_type": "markdown",
   "metadata": {},
   "source": [
    "### The above workerd for the example but computationally was too expensive for the challange\n",
    "a second approach which considered each mapping and used if statements to see if it was valid was used as an alternative to be less memory intensive"
   ]
  },
  {
   "cell_type": "code",
   "execution_count": null,
   "metadata": {},
   "outputs": [],
   "source": [
    "file = open(\"Day5_challenge.txt\",\"r\")\n",
    "whole_file =[]\n",
    "a = file.readlines()\n",
    "for i in a:\n",
    "    whole_file.append(i.strip())\n"
   ]
  },
  {
   "cell_type": "code",
   "execution_count": null,
   "metadata": {},
   "outputs": [],
   "source": [
    "seeds = whole_file[0].split(\":\")[1].strip().split(\" \")\n",
    "seeds = [int(i) for i in seeds]"
   ]
  },
  {
   "cell_type": "code",
   "execution_count": null,
   "metadata": {},
   "outputs": [],
   "source": [
    "maps = [\"seed-to-soil map:\",\"soil-to-fertilizer map:\",\"fertilizer-to-water map:\",\"water-to-light map:\",\"light-to-temperature map:\",\"temperature-to-humidity map:\",\"humidity-to-location map:\"]\n",
    "maps_number = [[] for i in range(len(maps))]\n",
    "for i, line in enumerate(whole_file):\n",
    "    for j in range(len(maps)):\n",
    "        if maps[j] == line:\n",
    "            print(line)\n",
    "            k = 1\n",
    "            \n",
    "            while i+k < len(whole_file) and len(whole_file[i+k]) > 3:\n",
    "                # print(whole_file[i+k])\n",
    "                maps_number[j].append(whole_file[i+k])\n",
    "                k=k+1\n",
    "\n"
   ]
  },
  {
   "cell_type": "code",
   "execution_count": null,
   "metadata": {},
   "outputs": [],
   "source": [
    "for i in maps_number:\n",
    "    print (i)"
   ]
  },
  {
   "cell_type": "code",
   "execution_count": null,
   "metadata": {},
   "outputs": [],
   "source": [
    "locations = []\n",
    "for seed in seeds:\n",
    "    value = seed\n",
    "    for i in maps_number:\n",
    "        for j in i:\n",
    "            start_a = int(j.split(\" \")[1])\n",
    "            start_b = int(j.split(\" \")[0])\n",
    "            number = int(j.split(\" \")[2])\n",
    "            offset = start_b-start_a\n",
    "            if value >= start_a and value <= start_a+number:\n",
    "                value = value + offset\n",
    "                break\n",
    "    locations.append(value)\n",
    "        \n",
    "\n",
    "        "
   ]
  },
  {
   "cell_type": "code",
   "execution_count": null,
   "metadata": {},
   "outputs": [],
   "source": [
    "print (seeds)\n",
    "print(locations)"
   ]
  },
  {
   "cell_type": "code",
   "execution_count": null,
   "metadata": {},
   "outputs": [],
   "source": [
    "min(locations)"
   ]
  },
  {
   "cell_type": "markdown",
   "metadata": {},
   "source": [
    "SOOOOO much quicker!! "
   ]
  },
  {
   "cell_type": "markdown",
   "metadata": {},
   "source": [
    "Part 2\n",
    "Try generating a list of seeds as the processing was quick"
   ]
  },
  {
   "cell_type": "code",
   "execution_count": null,
   "metadata": {},
   "outputs": [],
   "source": [
    "seed_start = []\n",
    "seed_len=[]\n",
    "for i in range(len(seeds)):\n",
    "    if i%2 == 0:\n",
    "        seed_start.append(int(seeds[i]))\n",
    "    else:\n",
    "        seed_len.append(int(seeds[i]))"
   ]
  },
  {
   "cell_type": "code",
   "execution_count": null,
   "metadata": {},
   "outputs": [],
   "source": [
    "def find_min_locations(seed):\n",
    "    value = seed\n",
    "    for i in maps_number:\n",
    "        for j in i:\n",
    "            start_a = int(j.split(\" \")[1])\n",
    "            start_b = int(j.split(\" \")[0])\n",
    "            number = int(j.split(\" \")[2])\n",
    "            offset = start_b-start_a\n",
    "            if value >= start_a and value <= start_a+number:\n",
    "                value = value + offset\n",
    "                break\n",
    "    return value\n",
    "        "
   ]
  },
  {
   "cell_type": "code",
   "execution_count": null,
   "metadata": {},
   "outputs": [],
   "source": [
    "# seed_group=[]\n",
    "# min_location = 1000000000000000000\n",
    "# for i in range(len(seed_len)):\n",
    "#     for j in range(seed_len[i]):\n",
    "#         location = find_min_locations(seed_start[i]+j)\n",
    "#         if location<min_location:\n",
    "#             min_location = location\n",
    "    \n",
    "# print(min_location)"
   ]
  },
  {
   "cell_type": "markdown",
   "metadata": {},
   "source": [
    "Just process each and update value if less than minimum, needs less ram \\ \n",
    "Still way to long! next idea - work backwards for each location until the seed is present in the an initial list starting at 0. \\\n",
    "Will still take alot of time but should be less than the method of finding all the seed locations. "
   ]
  },
  {
   "cell_type": "code",
   "execution_count": null,
   "metadata": {},
   "outputs": [],
   "source": [
    "file = open(\"Day5_challenge.txt\",\"r\")\n",
    "whole_file =[]\n",
    "a = file.readlines()\n",
    "for i in a:\n",
    "    whole_file.append(i.strip())\n"
   ]
  },
  {
   "cell_type": "code",
   "execution_count": null,
   "metadata": {},
   "outputs": [],
   "source": [
    "seeds = whole_file[0].split(\":\")[1].strip().split(\" \")\n",
    "seeds = [int(i) for i in seeds]"
   ]
  },
  {
   "cell_type": "code",
   "execution_count": null,
   "metadata": {},
   "outputs": [],
   "source": [
    "print(seeds)"
   ]
  },
  {
   "cell_type": "code",
   "execution_count": null,
   "metadata": {},
   "outputs": [],
   "source": [
    "seed_start = []\n",
    "seed_len=[]\n",
    "for i in range(len(seeds)):\n",
    "    if i%2 == 0:\n",
    "        seed_start.append(int(seeds[i]))\n",
    "    else:\n",
    "        seed_len.append(int(seeds[i]))"
   ]
  },
  {
   "cell_type": "code",
   "execution_count": null,
   "metadata": {},
   "outputs": [],
   "source": [
    "def check_seed(seed:int,seed_start:list,seed_len:list)->bool:\n",
    "    \"\"\"Check if a provided seed is in the list of seeds provided\n",
    "\n",
    "    Args:\n",
    "        seed (int): \n",
    "\n",
    "    Returns:\n",
    "        bool: _description_\n",
    "\n",
    "    \"\"\"\n",
    "    result = False\n",
    "    for i in range(len(seed_start)):\n",
    "        if seed >= seed_start[i] and seed <= seed_start[i]+seed_len[i]:\n",
    "            result = True\n",
    "            break\n",
    "    return result"
   ]
  },
  {
   "cell_type": "code",
   "execution_count": null,
   "metadata": {},
   "outputs": [],
   "source": [
    "check_seed(92,seed_start,seed_len)"
   ]
  },
  {
   "cell_type": "code",
   "execution_count": null,
   "metadata": {},
   "outputs": [],
   "source": [
    "maps = [\"seed-to-soil map:\",\"soil-to-fertilizer map:\",\"fertilizer-to-water map:\",\"water-to-light map:\",\"light-to-temperature map:\",\"temperature-to-humidity map:\",\"humidity-to-location map:\"]\n",
    "maps_number = [[] for i in range(len(maps))]\n",
    "for i, line in enumerate(whole_file):\n",
    "    for j in range(len(maps)):\n",
    "        if maps[j] == line:\n",
    "            print(line)\n",
    "            k = 1\n",
    "            \n",
    "            while i+k < len(whole_file) and len(whole_file[i+k]) > 3:\n",
    "                # print(whole_file[i+k])\n",
    "                maps_number[j].append(whole_file[i+k])\n",
    "                k=k+1\n"
   ]
  },
  {
   "cell_type": "code",
   "execution_count": null,
   "metadata": {},
   "outputs": [],
   "source": [
    "def find_seed(location):\n",
    "    value = location\n",
    "    for i in range(len(maps_number)):\n",
    "        # print( maps_number[-(i+1)])\n",
    "        for j in maps_number[-(i+1)]:\n",
    "            start_a = int(j.split(\" \")[0])\n",
    "            start_b = int(j.split(\" \")[1])\n",
    "            number = int(j.split(\" \")[2])\n",
    "            offset = start_b-start_a\n",
    "            \n",
    "            if value >= start_a and value <= start_a+number:\n",
    "                value = value + offset\n",
    "                break\n",
    "    return value\n",
    "    "
   ]
  },
  {
   "cell_type": "code",
   "execution_count": null,
   "metadata": {},
   "outputs": [],
   "source": [
    "find_seed(46)"
   ]
  },
  {
   "cell_type": "code",
   "execution_count": null,
   "metadata": {},
   "outputs": [],
   "source": [
    "check_seed(2,seed_start,seed_len)"
   ]
  },
  {
   "cell_type": "code",
   "execution_count": null,
   "metadata": {},
   "outputs": [],
   "source": [
    "for i in range(100000000):\n",
    "    if check_seed(find_seed(i),seed_start,seed_len):\n",
    "        \n",
    "        print(i)\n",
    "        break"
   ]
  },
  {
   "cell_type": "markdown",
   "metadata": {},
   "source": [
    "This approach was to try and loop to find the minimal location which mapped to a seed which was in the initial list. it should be quicker :|\n",
    "2 Hrs to complete. not terrible"
   ]
  }
 ],
 "metadata": {
  "kernelspec": {
   "display_name": ".venv",
   "language": "python",
   "name": "python3"
  },
  "language_info": {
   "codemirror_mode": {
    "name": "ipython",
    "version": 3
   },
   "file_extension": ".py",
   "mimetype": "text/x-python",
   "name": "python",
   "nbconvert_exporter": "python",
   "pygments_lexer": "ipython3",
   "version": "3.11.4"
  }
 },
 "nbformat": 4,
 "nbformat_minor": 2
}
