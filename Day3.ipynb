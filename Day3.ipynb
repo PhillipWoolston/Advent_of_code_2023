{
 "cells": [
  {
   "cell_type": "markdown",
   "metadata": {},
   "source": [
    "## Day 3\n",
    "find number \n",
    "get co-ords\n",
    "does it have a symbol near it (non \".\")\n",
    "add number to list \n",
    "\n",
    "list of lists might help with indexes "
   ]
  },
  {
   "cell_type": "code",
   "execution_count": null,
   "metadata": {},
   "outputs": [],
   "source": [
    "def search_grid(row:int,start:int,end:int,row_end:int,list_end:int):\n",
    "    positions = []\n",
    "    for i in range((start-1),(end+2)):\n",
    "        for j in range ((row-1),(row+2)):\n",
    "            if i >= 0 and i <= row_end and j >=0 and j <= list_end-1:\n",
    "                positions.append([i,j])\n",
    "\n",
    "    return positions  \n",
    "\n"
   ]
  },
  {
   "cell_type": "code",
   "execution_count": null,
   "metadata": {},
   "outputs": [],
   "source": [
    "points = search_grid(row =0, start = 3, end = 4,row_end = 7,list_end = 8)"
   ]
  },
  {
   "cell_type": "code",
   "execution_count": null,
   "metadata": {},
   "outputs": [],
   "source": [
    "grid = []\n",
    "for i in range(7):\n",
    "    grid.append([])\n",
    "    for j in range(8):\n",
    "        if [j,i] in points:\n",
    "            grid[i].append(\"x\")\n",
    "        else:\n",
    "            grid[i].append(\".\")\n",
    "for k in grid:\n",
    "    print(k)"
   ]
  },
  {
   "cell_type": "code",
   "execution_count": null,
   "metadata": {},
   "outputs": [],
   "source": [
    "class Machine_number:\n",
    "    def __init__(self,row,start,end,row_end,list_end,value):\n",
    "        self.row = row\n",
    "        self.start = start\n",
    "        self.end = end\n",
    "        self.value = value\n",
    "        self.list_end = list_end,\n",
    "        self.search_grid = search_grid(row=row,\n",
    "                                        start=start,\n",
    "                                        end = end,\n",
    "                                        row_end = row_end,\n",
    "                                        list_end = list_end)\n",
    "    \n",
    "    def __str__(self):\n",
    "        return f\"{self.start} to {self.end} on row {self.row}, {self.value},{self.list_end}\"\n",
    "    \n",
    "\n",
    "        \n",
    "    \n",
    "        "
   ]
  },
  {
   "cell_type": "code",
   "execution_count": null,
   "metadata": {},
   "outputs": [],
   "source": [
    "file = open(\"3-1.txt\",\"r\")\n",
    "whole_grid =[]\n",
    "a = file.readlines()\n",
    "for i in a:\n",
    "    whole_grid.append(i.strip())"
   ]
  },
  {
   "cell_type": "code",
   "execution_count": null,
   "metadata": {},
   "outputs": [],
   "source": [
    "for row in whole_grid:\n",
    "    print(row)"
   ]
  },
  {
   "cell_type": "code",
   "execution_count": null,
   "metadata": {},
   "outputs": [],
   "source": [
    "start_num = -1\n",
    "\n",
    "machine_numbers = []\n",
    "for i in range(len(whole_grid)):\n",
    "    start_num = -1\n",
    "    for j in range(len(whole_grid[i])):\n",
    "        if whole_grid[i][j] >=\"0\" and whole_grid[i][j] <=\"9\":\n",
    "            if start_num < 0:\n",
    "                start_num = j\n",
    "            if j == len(whole_grid[i])-1:\n",
    "                value_str = \"\"\n",
    "                for x in range((start_num),(j)+1):\n",
    "                    value_str = value_str + whole_grid[i][x]\n",
    "                print(value_str,i)\n",
    "                machine_numbers.append(Machine_number(start=start_num,\n",
    "                                                        end=j-1,\n",
    "                                                        row=i,\n",
    "                                                        value=int(value_str),\n",
    "                                                        row_end=len(whole_grid[i]),\n",
    "                                                        list_end=len(whole_grid))\n",
    "                                                        )\n",
    "                start_num = -1\n",
    "        else:    \n",
    "            if start_num != -1 :\n",
    "                value_str = \"\"\n",
    "                for x in range((start_num),(j)):\n",
    "                    value_str = value_str + whole_grid[i][x]\n",
    "                machine_numbers.append(Machine_number(start=start_num,\n",
    "                                                        end=j-1,\n",
    "                                                        row=i,\n",
    "                                                        value=int(value_str),\n",
    "                                                        row_end=len(whole_grid[i]),\n",
    "                                                        list_end=len(whole_grid))\n",
    "                                                        )\n",
    "                start_num = -1\n",
    "        \n",
    "\n"
   ]
  },
  {
   "cell_type": "code",
   "execution_count": null,
   "metadata": {},
   "outputs": [],
   "source": [
    "print(len(machine_numbers))\n",
    "print(machine_numbers[1])"
   ]
  },
  {
   "cell_type": "code",
   "execution_count": null,
   "metadata": {},
   "outputs": [],
   "source": [
    "def grid_check(grid,machine_number):\n",
    "    score = 0\n",
    "    switch = 0 \n",
    "    for i in machine_number.search_grid:\n",
    "\n",
    "        if (grid[i[1]][i[0]] <= \"9\" and grid[i[1]][i[0]] >= \"0\") or grid[i[1]][i[0]] == \".\":\n",
    "            score = score + 0\n",
    "\n",
    "        else:\n",
    "            score = score + 1 \n",
    "\n",
    "    if score > 0:\n",
    "        switch = 1\n",
    "    \n",
    "    return switch\n",
    "        \n"
   ]
  },
  {
   "cell_type": "code",
   "execution_count": null,
   "metadata": {},
   "outputs": [],
   "source": [
    "print(grid_check(whole_grid,machine_numbers[0]))"
   ]
  },
  {
   "cell_type": "code",
   "execution_count": null,
   "metadata": {},
   "outputs": [],
   "source": [
    "total = 0\n",
    "for i in machine_numbers:\n",
    "    if grid_check(whole_grid,i) == 1:\n",
    "        total = total + i.value\n",
    "\n",
    "print(total)"
   ]
  },
  {
   "cell_type": "markdown",
   "metadata": {},
   "source": [
    "## Part 2\n",
    "Look for * - if inside two machine parts - multiple values. "
   ]
  },
  {
   "cell_type": "markdown",
   "metadata": {},
   "source": [
    "could be inefficient but will work\n",
    "\n"
   ]
  },
  {
   "cell_type": "code",
   "execution_count": null,
   "metadata": {},
   "outputs": [],
   "source": [
    "import math"
   ]
  },
  {
   "cell_type": "code",
   "execution_count": null,
   "metadata": {},
   "outputs": [],
   "source": [
    "total_gear = 0\n",
    "for i in range(len(whole_grid)):\n",
    "    for j in range(len(whole_grid[i])):\n",
    "        total = 0\n",
    "        gears = []\n",
    "        if whole_grid[i][j] == \"*\":\n",
    "            for x in machine_numbers:\n",
    "                if [j,i] in x.search_grid:\n",
    "                    total = total + 1 \n",
    "                    gears.append(x.value)\n",
    "\n",
    "            if total > 1:\n",
    "                total_gear = total_gear + math.prod(gears)\n",
    "\n",
    "print(total_gear)\n"
   ]
  }
 ],
 "metadata": {
  "kernelspec": {
   "display_name": ".venv",
   "language": "python",
   "name": "python3"
  },
  "language_info": {
   "codemirror_mode": {
    "name": "ipython",
    "version": 3
   },
   "file_extension": ".py",
   "mimetype": "text/x-python",
   "name": "python",
   "nbconvert_exporter": "python",
   "pygments_lexer": "ipython3",
   "version": "3.11.4"
  }
 },
 "nbformat": 4,
 "nbformat_minor": 2
}
