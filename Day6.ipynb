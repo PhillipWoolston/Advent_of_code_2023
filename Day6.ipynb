{
 "cells": [
  {
   "cell_type": "code",
   "execution_count": null,
   "metadata": {},
   "outputs": [],
   "source": [
    "file = open(\"Day6_challenge.txt\",\"r\")\n",
    "whole_file =[]\n",
    "a = file.readlines()\n",
    "for i in a:\n",
    "    whole_file.append(i.strip())\n"
   ]
  },
  {
   "cell_type": "code",
   "execution_count": null,
   "metadata": {},
   "outputs": [],
   "source": [
    "elements = []\n",
    "for i in whole_file:\n",
    "    elements.append(i.split(\":\")[1].strip().split(\" \"))"
   ]
  },
  {
   "cell_type": "code",
   "execution_count": null,
   "metadata": {},
   "outputs": [],
   "source": [
    "new_list=[[],[]]\n",
    "for i in range(len(elements)):\n",
    "    for j in elements[i]:\n",
    "        if j != \"\":\n",
    "            new_list[i].append(int(j))\n",
    "print (new_list)"
   ]
  },
  {
   "cell_type": "markdown",
   "metadata": {},
   "source": [
    "Brute force approach"
   ]
  },
  {
   "cell_type": "code",
   "execution_count": null,
   "metadata": {},
   "outputs": [],
   "source": [
    "total_freedom = 1\n",
    "for i in range(len(new_list[0])):\n",
    "    freedom = 0\n",
    "    for j in range(new_list[0][i]):\n",
    "        if j*(new_list[0][i]-j)>new_list[1][i]:\n",
    "            freedom = freedom + 1\n",
    "    total_freedom = total_freedom* freedom \n",
    "\n",
    "print(total_freedom)"
   ]
  },
  {
   "cell_type": "markdown",
   "metadata": {},
   "source": [
    "Part 2 "
   ]
  },
  {
   "cell_type": "markdown",
   "metadata": {},
   "source": [
    "Try Brute force / \n",
    "there will be a more elegant solution solving the quadratic equation but brute force should be trivial in this case. \n"
   ]
  },
  {
   "cell_type": "code",
   "execution_count": null,
   "metadata": {},
   "outputs": [],
   "source": [
    "file = open(\"Day6_challenge.txt\",\"r\")\n",
    "whole_file =[]\n",
    "a = file.readlines()\n",
    "for i in a:\n",
    "    whole_file.append(i.strip())\n"
   ]
  },
  {
   "cell_type": "code",
   "execution_count": null,
   "metadata": {},
   "outputs": [],
   "source": [
    "elements = []\n",
    "for i in whole_file:\n",
    "    elements.append(i.split(\":\")[1].strip().split(\" \"))"
   ]
  },
  {
   "cell_type": "code",
   "execution_count": null,
   "metadata": {},
   "outputs": [],
   "source": [
    "new_list=[]\n",
    "for i in range(len(elements)):\n",
    "    new_list.append(\"\")\n",
    "    for j in elements[i]:\n",
    "        if j != \"\":\n",
    "            new_list[i] = new_list[i]+j\n",
    "print (new_list)"
   ]
  },
  {
   "cell_type": "code",
   "execution_count": null,
   "metadata": {},
   "outputs": [],
   "source": [
    "freedom = 0\n",
    "for i in range(int(new_list[0])):\n",
    "    \n",
    "    if i*(int(new_list[0])-i) > int(new_list[1]):\n",
    "        freedom = freedom +1\n",
    "\n",
    "print(freedom)"
   ]
  }
 ],
 "metadata": {
  "kernelspec": {
   "display_name": ".venv",
   "language": "python",
   "name": "python3"
  },
  "language_info": {
   "codemirror_mode": {
    "name": "ipython",
    "version": 3
   },
   "file_extension": ".py",
   "mimetype": "text/x-python",
   "name": "python",
   "nbconvert_exporter": "python",
   "pygments_lexer": "ipython3",
   "version": "3.11.4"
  }
 },
 "nbformat": 4,
 "nbformat_minor": 2
}
