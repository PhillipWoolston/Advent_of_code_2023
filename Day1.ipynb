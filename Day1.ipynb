{
 "cells": [
  {
   "cell_type": "markdown",
   "metadata": {},
   "source": [
    "Day 1 - Part 1"
   ]
  },
  {
   "cell_type": "code",
   "execution_count": null,
   "metadata": {},
   "outputs": [],
   "source": [
    "## open file with the text \n",
    "file = open(\"1-1.txt\",\"r\")"
   ]
  },
  {
   "cell_type": "code",
   "execution_count": null,
   "metadata": {},
   "outputs": [],
   "source": [
    "### make a list of the lines of the text \n",
    "a = file.readlines()\n",
    "print(a)"
   ]
  },
  {
   "cell_type": "code",
   "execution_count": null,
   "metadata": {},
   "outputs": [],
   "source": [
    "## make a variable for the first and last character and increasing total \n",
    "first = \"0\"\n",
    "second = \"0\"\n",
    "number = 0 \n",
    "## loop each line\n",
    "for i in a:\n",
    "    # loop each character in a line from the start and if it is a number assign it to a variable and stop\n",
    "    for j in i:\n",
    "        if j <= \"9\" and j >=\"0\":\n",
    "            first = j\n",
    "            break\n",
    "    # loop each character in a line from the end and if it is a number assign it to a variable and stop\n",
    "    for k in range(1,len(i)+1):\n",
    "        if i[-k] <= \"9\" and i[-k] >=\"0\":\n",
    "            second = i[-k]\n",
    "            break \n",
    "    ##sum the growing number of values from each line\n",
    "    number = number +int(first+second)\n",
    "## print the end value\n",
    "print(number)"
   ]
  },
  {
   "cell_type": "markdown",
   "metadata": {},
   "source": [
    "Day one part 2"
   ]
  },
  {
   "cell_type": "code",
   "execution_count": null,
   "metadata": {},
   "outputs": [],
   "source": [
    "#### initialise searchable list\n",
    "searchable_text_list = [\"one\",\"two\",\"three\",\"four\",\"five\",\"six\",\"seven\",\"eight\",\"nine\"]\n",
    "searchable_number_list = [\"1\",\"2\",\"3\",\"4\",\"5\",\"6\",\"7\",\"8\",\"9\"]\n"
   ]
  },
  {
   "cell_type": "code",
   "execution_count": null,
   "metadata": {},
   "outputs": [],
   "source": [
    "## test function for start value\n",
    "\n",
    "def first_char(string):\n",
    "    first = \"0\"\n",
    "    for i in range(len(string)):\n",
    "        if first == \"0\":\n",
    "            for j in range(len(searchable_text_list)):\n",
    "                if string[i:i+len(searchable_text_list[j])]==searchable_text_list[j]:\n",
    "                    first = searchable_number_list[j]\n",
    "                    break\n",
    "                elif string[i:i+len(searchable_number_list[j])]==searchable_number_list[j]:\n",
    "                    first= searchable_number_list[j]\n",
    "                    break\n",
    "        else:\n",
    "            break\n",
    "        \n",
    "    return first\n"
   ]
  },
  {
   "cell_type": "code",
   "execution_count": null,
   "metadata": {},
   "outputs": [],
   "source": [
    "string = \"5oneeight56three\"\n",
    "print (first_char(string))"
   ]
  },
  {
   "cell_type": "code",
   "execution_count": null,
   "metadata": {},
   "outputs": [],
   "source": [
    "\n",
    "def last_char(string):\n",
    "    last = \"0\"\n",
    "    for i in range(1,len(string)+1):\n",
    "        for j in range(len(searchable_text_list)):\n",
    "            if last == \"0\":\n",
    "                if i == 1:\n",
    "           \n",
    "                    if string[-(i+len(searchable_text_list[j])-1):]==searchable_text_list[j]:\n",
    "                        last = searchable_number_list[j]\n",
    "                        break\n",
    "                    elif string[-i] == searchable_number_list[j]:\n",
    "                        last = searchable_number_list[j]\n",
    "                        break\n",
    "                else:\n",
    "      \n",
    "                    if string[-(i+len(searchable_text_list[j])-1):-i+1]==searchable_text_list[j]:\n",
    "                        last = searchable_number_list[j]\n",
    "                        break\n",
    "                    elif string[-i] == searchable_number_list[j]:\n",
    "                        last = searchable_number_list[j]\n",
    "                        break\n",
    "            else:\n",
    "                break\n",
    "    return last"
   ]
  },
  {
   "cell_type": "code",
   "execution_count": null,
   "metadata": {},
   "outputs": [],
   "source": [
    "string = \"5oneeight56threer\"\n",
    "print(last_char(string))\n"
   ]
  },
  {
   "cell_type": "code",
   "execution_count": null,
   "metadata": {},
   "outputs": [],
   "source": [
    "## open file with the text \n",
    "file = open(\"1-1.txt\",\"r\")\n",
    "a = file.readlines()\n",
    "number = 0\n",
    "for i in a:\n",
    "\n",
    "    number = number + int(first_char(i)+last_char(i))\n",
    "\n",
    "print(\"number is \",number)\n"
   ]
  },
  {
   "cell_type": "code",
   "execution_count": null,
   "metadata": {},
   "outputs": [],
   "source": [
    "string_2 = [\"two1nine\",\n",
    "\"eightwothree\",\n",
    "\"abcone2threexyz\",\n",
    "\"xtwone3four\",\n",
    "\"4nineeightseven2\",\n",
    "\"zoneight234\",\n",
    "\"7pqrstsixteen\"]\n",
    "\n",
    "number = 0\n",
    "for i in string_2:\n",
    "\n",
    "    number = number + int(first_char(i)+last_char(i))\n",
    "\n",
    "print(\"number is \",number)"
   ]
  }
 ],
 "metadata": {
  "kernelspec": {
   "display_name": ".venv",
   "language": "python",
   "name": "python3"
  },
  "language_info": {
   "codemirror_mode": {
    "name": "ipython",
    "version": 3
   },
   "file_extension": ".py",
   "mimetype": "text/x-python",
   "name": "python",
   "nbconvert_exporter": "python",
   "pygments_lexer": "ipython3",
   "version": "3.11.4"
  }
 },
 "nbformat": 4,
 "nbformat_minor": 2
}
