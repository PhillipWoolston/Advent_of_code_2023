{
 "cells": [
  {
   "cell_type": "markdown",
   "metadata": {},
   "source": [
    "## Day 2"
   ]
  },
  {
   "cell_type": "code",
   "execution_count": null,
   "metadata": {},
   "outputs": [],
   "source": [
    "def get_colour(string:str,colour:str):\n",
    "    value = 0\n",
    "    for i in string.split(\",\"):\n",
    "        if i.strip().split(\" \")[1] == colour:\n",
    "            value = int(i.strip().split(\" \")[0])\n",
    "            break\n",
    "    return value\n"
   ]
  },
  {
   "cell_type": "code",
   "execution_count": null,
   "metadata": {},
   "outputs": [],
   "source": [
    "class Game:\n",
    "    def __init__(self,string:str,id:int):\n",
    "        self.id = id\n",
    "        self.red = get_colour(string,\"red\")\n",
    "        self.blue = get_colour(string,\"blue\")\n",
    "        self.green = get_colour(string,\"green\")\n",
    "\n",
    "    def __str__(self):\n",
    "        return f\"Game: {self.id}, red: {self.red}, blue: {self.blue}, green: {self.green} \"\n"
   ]
  },
  {
   "cell_type": "code",
   "execution_count": null,
   "metadata": {},
   "outputs": [],
   "source": [
    "class Games:\n",
    "    def __init__(self,string):\n",
    "        self.id =int(string.strip().split(\":\")[0][5:]) \n",
    "        self.game_groups = [Game(i,self.id) for i in string.strip().split(\":\")[1].split(\";\")]\n",
    "        \n",
    "    def __str__(self):\n",
    "        return f\"Game ID: {self.id}, No games {len(self.game_groups)}\""
   ]
  },
  {
   "cell_type": "code",
   "execution_count": null,
   "metadata": {},
   "outputs": [],
   "source": [
    "configuration = Game(\"12 red, 13 green, 14 blue\",0)\n",
    "print(configuration)\n"
   ]
  },
  {
   "cell_type": "code",
   "execution_count": null,
   "metadata": {},
   "outputs": [],
   "source": [
    "## open file with the text \n",
    "file = open(\"2-1.txt\",\"r\")\n",
    "all_games =[]\n",
    "a = file.readlines()\n",
    "for i in a:\n",
    "    all_games.append(Games(i))\n"
   ]
  },
  {
   "cell_type": "code",
   "execution_count": null,
   "metadata": {},
   "outputs": [],
   "source": [
    "total = 0\n",
    "for i in all_games:\n",
    "    group_total = 0\n",
    "    for j in i.game_groups:\n",
    "        if j.red <= configuration.red and j.green <= configuration.green and j.blue <= configuration.blue: \n",
    "            group_total=group_total+1\n",
    "        \n",
    "    if len(i.game_groups) == group_total:\n",
    "        total = total + i.id\n",
    "\n",
    "\n",
    "print (total)"
   ]
  },
  {
   "cell_type": "markdown",
   "metadata": {},
   "source": [
    "## Part 2\n",
    "power = product of the  minimal number of cubes per group \n",
    "total =  sum of power in all groups "
   ]
  },
  {
   "cell_type": "code",
   "execution_count": null,
   "metadata": {},
   "outputs": [],
   "source": [
    "def get_power(list_of_games:list):\n",
    "    min_red = 0\n",
    "    min_blue = 0 \n",
    "    min_green = 0\n",
    "    for i in list_of_games:\n",
    "        if i.red > min_red:\n",
    "            min_red = i.red\n",
    "        if i.blue > min_blue:\n",
    "            min_blue = i.blue\n",
    "        if i.green > min_green:\n",
    "            min_green = i.green\n",
    "    power = min_blue * min_green * min_red\n",
    "    return power"
   ]
  },
  {
   "cell_type": "code",
   "execution_count": null,
   "metadata": {},
   "outputs": [],
   "source": [
    "\n",
    "class Power(Games):\n",
    "    def __init__(self,string):\n",
    "        super().__init__(string)\n",
    "        self.power = get_power(self.game_groups)\n",
    "\n",
    "    def __str__(self):\n",
    "        return f\"Game ID: {self.id}, No games {len(self.game_groups)}, power = {self.power}\"\n"
   ]
  },
  {
   "cell_type": "code",
   "execution_count": null,
   "metadata": {},
   "outputs": [],
   "source": [
    "## open file with the text \n",
    "file = open(\"2-1.txt\",\"r\")\n",
    "all_games =[]\n",
    "a = file.readlines()\n",
    "for i in a:\n",
    "    all_games.append(Power(i))\n",
    "\n"
   ]
  },
  {
   "cell_type": "code",
   "execution_count": null,
   "metadata": {},
   "outputs": [],
   "source": [
    "total = 0\n",
    "for i in all_games:\n",
    "    total = total + i.power\n",
    "print(total)"
   ]
  }
 ],
 "metadata": {
  "kernelspec": {
   "display_name": ".venv",
   "language": "python",
   "name": "python3"
  },
  "language_info": {
   "codemirror_mode": {
    "name": "ipython",
    "version": 3
   },
   "file_extension": ".py",
   "mimetype": "text/x-python",
   "name": "python",
   "nbconvert_exporter": "python",
   "pygments_lexer": "ipython3",
   "version": "3.11.4"
  }
 },
 "nbformat": 4,
 "nbformat_minor": 2
}
