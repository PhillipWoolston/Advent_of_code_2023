{
 "cells": [
  {
   "cell_type": "markdown",
   "metadata": {},
   "source": [
    "## Day 7\n",
    "\n",
    "order sets by score and then get total winnings"
   ]
  },
  {
   "cell_type": "code",
   "execution_count": null,
   "metadata": {},
   "outputs": [],
   "source": [
    "strengths = {\"A\":13,\n",
    "             \"K\":12,\n",
    "             \"Q\":11,\n",
    "             \"J\":10,\n",
    "             \"T\":9, \n",
    "             \"9\":8,\n",
    "             \"8\":7,\n",
    "             \"7\":6,\n",
    "             \"6\":5,\n",
    "             \"5\":4,\n",
    "             \"4\":3,\n",
    "             \"3\":2,\n",
    "             \"2\":1}"
   ]
  },
  {
   "cell_type": "code",
   "execution_count": null,
   "metadata": {},
   "outputs": [],
   "source": [
    "file = open(\"Day7_challenge.txt\",\"r\")\n",
    "whole_file =[]\n",
    "a = file.readlines()\n",
    "for i in a:\n",
    "    whole_file.append(i.strip())\n"
   ]
  },
  {
   "cell_type": "code",
   "execution_count": null,
   "metadata": {},
   "outputs": [],
   "source": [
    "def card_score(string:str):\n",
    "    matched = []\n",
    "    while len(string)>0:\n",
    "        a = string[0]\n",
    "        start = len(string)\n",
    "        string = string.replace(a,\"\")\n",
    "        matched.append(start-len(string))\n",
    "    matched.sort(reverse=True)\n",
    "    if matched == [5]:\n",
    "        result = 7\n",
    "    elif matched == [4,1]:\n",
    "        result = 6\n",
    "    elif matched == [3,2]:\n",
    "        result = 5\n",
    "    elif matched == [3,1,1]:\n",
    "        result = 4\n",
    "    elif matched == [2,2,1]:\n",
    "        result = 3\n",
    "    elif matched == [2,1,1,1]:\n",
    "        result = 2\n",
    "    else:\n",
    "        result = 1\n",
    "    return result"
   ]
  },
  {
   "cell_type": "code",
   "execution_count": null,
   "metadata": {},
   "outputs": [],
   "source": [
    "print(card_score(\"KKKKA\"))"
   ]
  },
  {
   "cell_type": "code",
   "execution_count": null,
   "metadata": {},
   "outputs": [],
   "source": [
    "class CardSet:\n",
    "    def __init__(self,string:str) -> None:\n",
    "        self.id = string.split(\" \")[1].strip()\n",
    "        self.cards = string.split(\" \")[0].strip()\n",
    "        self.score = card_score(self.cards)\n",
    "        self.card_numbers = [self.score,\n",
    "                             strengths.get(string[0]),\n",
    "                             strengths.get(string[1]),\n",
    "                             strengths.get(string[2]),\n",
    "                             strengths.get(string[3]),\n",
    "                             strengths.get(string[4])]\n",
    "\n",
    "    def __str__(self):\n",
    "        return f\"Cards set {self.id}, {self.cards}, score: {self.score}\"      \n",
    "#### lovely little code to allow you to sort lists of classes!! \n",
    "    def __lt__(self,other):\n",
    "        return self.card_numbers < other.card_numbers  \n"
   ]
  },
  {
   "cell_type": "code",
   "execution_count": null,
   "metadata": {},
   "outputs": [],
   "source": [
    "all_cards = []\n",
    "for i in whole_file:\n",
    "    all_cards.append(CardSet(i))\n"
   ]
  },
  {
   "cell_type": "code",
   "execution_count": null,
   "metadata": {},
   "outputs": [],
   "source": [
    "# for i in all_cards:\n",
    "#     print(i)"
   ]
  },
  {
   "cell_type": "code",
   "execution_count": null,
   "metadata": {},
   "outputs": [],
   "source": [
    "all_cards.sort()"
   ]
  },
  {
   "cell_type": "code",
   "execution_count": null,
   "metadata": {},
   "outputs": [],
   "source": [
    "print(len(all_cards))"
   ]
  },
  {
   "cell_type": "code",
   "execution_count": null,
   "metadata": {},
   "outputs": [],
   "source": [
    "total_score = 0\n",
    "for i in range(len(all_cards)):\n",
    "    # print(all_cards[i],total_score, ((i+1)*int(all_cards[i].id)))\n",
    "\n",
    "    total_score = total_score + ((i+1)*int(all_cards[i].id))"
   ]
  },
  {
   "cell_type": "code",
   "execution_count": null,
   "metadata": {},
   "outputs": [],
   "source": [
    "print(total_score)"
   ]
  },
  {
   "cell_type": "markdown",
   "metadata": {},
   "source": [
    "## Part 2"
   ]
  },
  {
   "cell_type": "code",
   "execution_count": null,
   "metadata": {},
   "outputs": [],
   "source": [
    "strengths = {\"A\":13,\n",
    "             \"K\":12,\n",
    "             \"Q\":11,\n",
    "             \"J\":0,\n",
    "             \"T\":9, \n",
    "             \"9\":8,\n",
    "             \"8\":7,\n",
    "             \"7\":6,\n",
    "             \"6\":5,\n",
    "             \"5\":4,\n",
    "             \"4\":3,\n",
    "             \"3\":2,\n",
    "             \"2\":1}"
   ]
  },
  {
   "cell_type": "code",
   "execution_count": null,
   "metadata": {},
   "outputs": [],
   "source": [
    "file = open(\"Day7_challenge.txt\",\"r\")\n",
    "whole_file =[]\n",
    "a = file.readlines()\n",
    "for i in a:\n",
    "    whole_file.append(i.strip())"
   ]
  },
  {
   "cell_type": "code",
   "execution_count": null,
   "metadata": {},
   "outputs": [],
   "source": [
    "def card_score_j(string:str):\n",
    "    matched = []\n",
    "    j = len(string)-len(string.replace(\"J\",\"\"))\n",
    "    string = string.replace(\"J\",\"\")\n",
    "    while len(string)>0:\n",
    "        a = string[0]\n",
    "        start = len(string)\n",
    "        string = string.replace(a,\"\")\n",
    "        matched.append(start-len(string))\n",
    "    matched.sort(reverse=True)\n",
    "    ### sneaky as 'JJJJJ' present in the list \n",
    "    if len(matched)>0:\n",
    "        matched[0]=matched[0]+j\n",
    "    else:\n",
    "        matched = [5]\n",
    "    if matched == [5]:\n",
    "        result = 7\n",
    "    elif matched == [4,1]:\n",
    "        result = 6\n",
    "    elif matched == [3,2]:\n",
    "        result = 5\n",
    "    elif matched == [3,1,1]:\n",
    "        result = 4\n",
    "    elif matched == [2,2,1]:\n",
    "        result = 3\n",
    "    elif matched == [2,1,1,1]:\n",
    "        result = 2\n",
    "    else:\n",
    "        result = 1\n",
    "    return result"
   ]
  },
  {
   "cell_type": "code",
   "execution_count": null,
   "metadata": {},
   "outputs": [],
   "source": [
    "class CardSet_j:\n",
    "    def __init__(self,string:str) -> None:\n",
    "        self.id = string.split(\" \")[1].strip()\n",
    "        self.cards = string.split(\" \")[0].strip()\n",
    "        self.score = card_score_j(self.cards)\n",
    "        self.card_numbers = [self.score,\n",
    "                             strengths.get(string[0]),\n",
    "                             strengths.get(string[1]),\n",
    "                             strengths.get(string[2]),\n",
    "                             strengths.get(string[3]),\n",
    "                             strengths.get(string[4])]\n",
    "\n",
    "    def __str__(self):\n",
    "        return f\"Cards set {self.id}, {self.cards}, score: {self.score}\"      \n",
    "\n",
    "    def __lt__(self,other):\n",
    "        return self.card_numbers < other.card_numbers  \n"
   ]
  },
  {
   "cell_type": "code",
   "execution_count": null,
   "metadata": {},
   "outputs": [],
   "source": [
    "all_cards = []\n",
    "for i in whole_file:\n",
    "    all_cards.append(CardSet_j(i))\n"
   ]
  },
  {
   "cell_type": "code",
   "execution_count": null,
   "metadata": {},
   "outputs": [],
   "source": [
    "all_cards.sort()"
   ]
  },
  {
   "cell_type": "code",
   "execution_count": null,
   "metadata": {},
   "outputs": [],
   "source": [
    "total_score = 0\n",
    "for i in range(len(all_cards)):\n",
    "    #print(all_cards[i],total_score, ((i+1)*int(all_cards[i].id)))\n",
    "\n",
    "    total_score = total_score + ((i+1)*int(all_cards[i].id))\n",
    "print(total_score)"
   ]
  },
  {
   "cell_type": "markdown",
   "metadata": {},
   "source": []
  }
 ],
 "metadata": {
  "kernelspec": {
   "display_name": ".venv",
   "language": "python",
   "name": "python3"
  },
  "language_info": {
   "codemirror_mode": {
    "name": "ipython",
    "version": 3
   },
   "file_extension": ".py",
   "mimetype": "text/x-python",
   "name": "python",
   "nbconvert_exporter": "python",
   "pygments_lexer": "ipython3",
   "version": "3.11.4"
  }
 },
 "nbformat": 4,
 "nbformat_minor": 2
}
